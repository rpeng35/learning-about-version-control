{
 "cells": [
  {
   "cell_type": "markdown",
   "id": "7cd72e11-c91f-4675-8e71-4912e2cbd72f",
   "metadata": {},
   "source": [
    "**Markdown cell**"
   ]
  },
  {
   "cell_type": "code",
   "execution_count": 1,
   "id": "4ad3e5df-96d3-4a7e-853b-f594671deebf",
   "metadata": {},
   "outputs": [],
   "source": [
    "x <- 3"
   ]
  }
 ],
 "metadata": {
  "kernelspec": {
   "display_name": "R",
   "language": "R",
   "name": "ir"
  },
  "language_info": {
   "codemirror_mode": "r",
   "file_extension": ".r",
   "mimetype": "text/x-r-source",
   "name": "R",
   "pygments_lexer": "r",
   "version": "4.1.2"
  }
 },
 "nbformat": 4,
 "nbformat_minor": 5
}
